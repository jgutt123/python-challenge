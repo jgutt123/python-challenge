{
 "cells": [
  {
   "cell_type": "code",
   "execution_count": 6,
   "metadata": {},
   "outputs": [
    {
     "name": "stdout",
     "output_type": "stream",
     "text": [
      "Financial Analysis\n",
      "----------------------\n",
      "Total Months:  86\n",
      "Total: $ 38382578\n",
      "Average change: $ -2315.12\n",
      "Greatest Increase In Profits:  Feb-2012 ($ 1926159.0 )\n",
      "Greatest Decrease in Losses:  Sep-2013 ($ -2196167.0 )\n"
     ]
    }
   ],
   "source": [
    "import csv\n",
    "from pathlib import Path\n",
    "\n",
    "# Load the CSV data\n",
    "\n",
    "# set path for files to output to analysis folder\n",
    "file_to_load = Path(\"budget_data.csv\")\n",
    "\n",
    "# Export the results to text file\n",
    "with open(file_to_load, \"r\") as txt_file:\n",
    "\n",
    "\n",
    "\n",
    "    #file_path = 'budget_data.csv'\n",
    "    #data = pd.read_csv(file_path)\n",
    "    #data.head() #print CSV (to check)\n",
    "\n",
    "    #Print Title\n",
    "    print(\"Financial Analysis\")\n",
    "    print (\"----------------------\")\n",
    "\n",
    "    #Counting Months Using Length\n",
    "    counting_months = len(data)\n",
    "    print(\"Total Months: \",counting_months)\n",
    "\n",
    "    #Adding Profit/Losses\n",
    "    money = sum(data['Profit/Losses'])\n",
    "    print(\"Total: $\", money)\n",
    "\n",
    "    #Finding Difference Between Months\n",
    "    difference = data['Profit/Losses'].diff()\n",
    "\n",
    "    #Finding Average Difference\n",
    "    average_diff = difference.mean()\n",
    "    average_diff = round(average_diff,2)\n",
    "    print(\"Average change: $\",average_diff)\n",
    "\n",
    "    #Greatest Increase in Profits (and Index)\n",
    "    max_profit_increase = difference.max()\n",
    "    index_1 = difference.idxmax()\n",
    "    print(\"Greatest Increase In Profits: \", data['Date'][index_1], \"($\", max_profit_increase, \")\")\n",
    "\n",
    "\n",
    "    #Greates Decrease in Losses\n",
    "    min_losses_decrease = difference.min()\n",
    "    index_2 = difference.idxmin()\n",
    "    print (\"Greatest Decrease in Losses: \", data['Date'][index_2],  \"($\", min_losses_decrease, \")\")\n",
    "\n"
   ]
  },
  {
   "cell_type": "code",
   "execution_count": 9,
   "metadata": {},
   "outputs": [],
   "source": [
    "# set path for files to output to analysis folder\n",
    "file_to_output = Path(\"analysis/budget_analysis.txt\")\n",
    "\n",
    "# Export the results to text file\n",
    "with open(file_to_output, \"w\") as txt_file:\n",
    "    # use the .write() method and f strings to output Financial Analysis\n",
    "    txt_file.write(f\"Financial Analysis\\n\")\n",
    "    txt_file.write(f\"----------------------\\n\")\n",
    "    txt_file.write(f\"Total Months: {counting_months}\\n\")\n",
    "    txt_file.write(f\"Total: ${money}\\n\")\n",
    "    txt_file.write(f\"Average change: ${average_diff}\\n\")\n",
    "    txt_file.write(f\"Greatest Increase In Profits: {data['Date'][index_1]} ${max_profit_increase}\\n\")\n",
    "    txt_file.write(f\"Greatest Decrease In Losses: {data['Date'][index_2]} ${min_losses_decrease}\\n\")\n",
    "\n",
    "    "
   ]
  },
  {
   "cell_type": "code",
   "execution_count": null,
   "metadata": {},
   "outputs": [],
   "source": []
  }
 ],
 "metadata": {
  "kernelspec": {
   "display_name": "Python 3",
   "language": "python",
   "name": "python3"
  },
  "language_info": {
   "codemirror_mode": {
    "name": "ipython",
    "version": 3
   },
   "file_extension": ".py",
   "mimetype": "text/x-python",
   "name": "python",
   "nbconvert_exporter": "python",
   "pygments_lexer": "ipython3",
   "version": "3.11.4"
  },
  "orig_nbformat": 4
 },
 "nbformat": 4,
 "nbformat_minor": 2
}
